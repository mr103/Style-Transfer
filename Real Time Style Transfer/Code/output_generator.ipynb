{
 "cells": [
  {
   "cell_type": "markdown",
   "metadata": {},
   "source": [
    "### Save style, content, and transformed images"
   ]
  },
  {
   "cell_type": "code",
   "execution_count": 15,
   "metadata": {},
   "outputs": [],
   "source": [
    "import os\n",
    "import numpy as np\n",
    "import torch\n",
    "import torch.nn as nn\n",
    "import torch.nn.functional as F\n",
    "import torch.utils.data as td\n",
    "import torchvision as tv\n",
    "from PIL import Image\n",
    "import matplotlib.pyplot as plt\n",
    "import nntools_RTST as nt\n",
    "from collections import namedtuple\n",
    "from architecture import *"
   ]
  },
  {
   "cell_type": "code",
   "execution_count": 16,
   "metadata": {},
   "outputs": [],
   "source": [
    "device = 'cuda' if torch.cuda.is_available() else 'cpu'"
   ]
  },
  {
   "cell_type": "code",
   "execution_count": 17,
   "metadata": {},
   "outputs": [],
   "source": [
    "image_size=(256, 256)\n",
    "transform = tv.transforms.Compose([\n",
    "            tv.transforms.Resize(image_size),\n",
    "            tv.transforms.ToTensor(),\n",
    "            tv.transforms.Normalize(mean = (0.5, 0.5, 0.5), std = (0.5, 0.5, 0.5))\n",
    "            ])"
   ]
  },
  {
   "cell_type": "markdown",
   "metadata": {},
   "source": [
    "### Load style networks"
   ]
  },
  {
   "cell_type": "code",
   "execution_count": 18,
   "metadata": {},
   "outputs": [],
   "source": [
    "transformer_cezanne = torch.load('transformer_cezanne')\n",
    "transformer_irises = torch.load('transformer_irises')\n",
    "transformer_starry = torch.load('transformer_starrynight')\n",
    "transformer_monet = torch.load('transformer_monet')"
   ]
  },
  {
   "cell_type": "code",
   "execution_count": 19,
   "metadata": {},
   "outputs": [],
   "source": [
    "def myimshow(image, ax=plt):\n",
    "    image = image.to('cpu').detach().numpy()\n",
    "    image = np.moveaxis(image, [0, 1, 2], [2, 0, 1])\n",
    "    image = (image + 1) / 2\n",
    "    image[image < 0] = 0\n",
    "    image[image > 1] = 1\n",
    "    h = ax.imshow(image)\n",
    "    ax.axis('off')\n",
    "    return h"
   ]
  },
  {
   "cell_type": "markdown",
   "metadata": {},
   "source": [
    "Edit the content_list below by providing appropriate path to the test image to try out all the styles"
   ]
  },
  {
   "cell_type": "code",
   "execution_count": null,
   "metadata": {},
   "outputs": [],
   "source": [
    "style_list = {'cezanne':'/datasets/ee285f-public/wikiart/wikiart/Post_Impressionism/paul-cezanne_forest.jpg',\n",
    "              'monet':'/datasets/ee285f-public/wikiart/wikiart/Impressionism/claude-monet_the-bodmer-oak-fontainebleau.jpg',\n",
    "              'starry_night':'/datasets/ee285f-public/wikiart/wikiart/Post_Impressionism/vincent-van-gogh_the-starry-night-1889(1).jpg',\n",
    "              'irises':'/datasets/ee285f-public/wikiart/wikiart/Post_Impressionism/vincent-van-gogh_irises-1889.jpg'}\n",
    "content_list = ['/datasets/ee285f-public/flickr_landscape/forest/12560797893_2d848c02ab.jpg',\n",
    "               '/datasets/ee285f-public/flickr_landscape/forest/12137794624_7347336a7d.jpg',\n",
    "               '/datasets/ee285f-public/flickr_landscape/forest/11032118_8e196a11ea.jpg',\n",
    "               '/datasets/ee285f-public/flickr_landscape/forest/10392082905_1e568e33dd.jpg',\n",
    "               '/datasets/ee285f-public/flickr_landscape/forest/1035978583_fde8eef9bc.jpg',\n",
    "               '/datasets/ee285f-public/flickr_landscape/forest/10334337455_6e27bb99dc.jpg',\n",
    "               '/datasets/ee285f-public/flickr_landscape/road/10070920934_12369b1ab0.jpg',\n",
    "               '/datasets/ee285f-public/flickr_landscape/road/12006507436_71206e3fb1.jpg',\n",
    "                '/datasets/ee285f-public/flickr_landscape/forest/11032118_8e196a11ea.jpg']               \n",
    "for style_name in style_list.keys():\n",
    "    style = Image.open(style_list[style_name]).convert('RGB')\n",
    "    style = transform(style)\n",
    "    myimshow(style)\n",
    "    sfilename = \"s_\"+style_list[style_name].replace('/datasets/ee285f-public/wikiart/wikiart/',style_name).replace('/','_')\n",
    "    plt.savefig(sfilename)\n",
    "    for content_path in content_list:\n",
    "        content = Image.open(content_path).convert('RGB')\n",
    "        content = transform(content)\n",
    "        myimshow(content)\n",
    "        cfilename = content_path.replace('/datasets/ee285f-public/flickr_landscape/','c_').replace('/','_')\n",
    "        plt.savefig(cfilename)\n",
    "        tfilename = style_name + cfilename\n",
    "        if style_name == 'cezanne':\n",
    "            myimshow(transformer_cezanne(content[None].to(device))[0])\n",
    "        elif style_name == 'monet':\n",
    "            myimshow(transformer_monet(content[None].to(device))[0])\n",
    "        elif style_name == 'irises':\n",
    "            myimshow(transformer_irises(content[None].to(device))[0])\n",
    "        else:\n",
    "            myimshow(transformer_starry(content[None].to(device))[0])\n",
    "        plt.savefig(tfilename)"
   ]
  }
 ],
 "metadata": {
  "kernelspec": {
   "display_name": "Python 3",
   "language": "python",
   "name": "python3"
  },
  "language_info": {
   "codemirror_mode": {
    "name": "ipython",
    "version": 3
   },
   "file_extension": ".py",
   "mimetype": "text/x-python",
   "name": "python",
   "nbconvert_exporter": "python",
   "pygments_lexer": "ipython3",
   "version": "3.7.3"
  }
 },
 "nbformat": 4,
 "nbformat_minor": 2
}
